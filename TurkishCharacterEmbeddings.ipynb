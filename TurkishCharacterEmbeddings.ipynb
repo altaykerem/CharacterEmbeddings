{
 "cells": [
  {
   "cell_type": "code",
   "execution_count": 1,
   "metadata": {},
   "outputs": [
    {
     "name": "stderr",
     "output_type": "stream",
     "text": [
      "C:\\ProgramData\\Anaconda3\\lib\\site-packages\\gensim\\utils.py:1197: UserWarning: detected Windows; aliasing chunkize to chunkize_serial\n",
      "  warnings.warn(\"detected Windows; aliasing chunkize to chunkize_serial\")\n"
     ]
    }
   ],
   "source": [
    "from gensim.models.poincare import PoincareModel\n",
    "from gensim.models import KeyedVectors\n",
    "import numpy as np\n",
    "from sklearn.manifold import TSNE\n",
    "import matplotlib.pyplot as plt\n",
    "\n",
    "%matplotlib inline"
   ]
  },
  {
   "cell_type": "code",
   "execution_count": 2,
   "metadata": {},
   "outputs": [],
   "source": [
    "case_relations = [\n",
    "    ('a', 'lower'), ('b', 'lower'), ('c', 'lower'), ('ç', 'lower'),\n",
    "    ('d', 'lower'), ('e', 'lower'), ('f', 'lower'), ('g', 'lower'), \n",
    "    ('ğ', 'lower'), ('h', 'lower'), ('i', 'lower'), ('ı', 'lower'), \n",
    "    ('j', 'lower'), ('k', 'lower'), ('l', 'lower'), ('m', 'lower'),\n",
    "    ('n', 'lower'), ('o', 'lower'), ('ö', 'lower'), ('p', 'lower'), \n",
    "    ('r', 'lower'), ('s', 'lower'), ('ş', 'lower'), ('t', 'lower'), \n",
    "    ('u', 'lower'), ('ü', 'lower'), ('v', 'lower'), ('y', 'lower'),\n",
    "    ('z', 'lower'), ('A', 'upper'), ('B', 'upper'), ('C', 'upper'), \n",
    "    ('Ç', 'upper'), ('D', 'upper'), ('E', 'upper'), ('F', 'upper'), \n",
    "    ('G', 'upper'), ('Ğ', 'upper'), ('H', 'upper'), ('İ', 'upper'), \n",
    "    ('I', 'upper'), ('J', 'upper'), ('K', 'upper'), ('L', 'upper'),\n",
    "    ('M', 'upper'), ('N', 'upper'), ('O', 'upper'), ('Ö', 'upper'), \n",
    "    ('P', 'upper'), ('R', 'upper'), ('S', 'upper'), ('Ş', 'upper'), \n",
    "    ('T', 'upper'), ('U', 'upper'), ('Ü', 'upper'), ('V', 'upper'),\n",
    "    ('Y', 'upper'), ('Z', 'upper'),\n",
    "    ('lower', 'case'), ('upper', 'case')\n",
    "]\n",
    "\n",
    "is_a_relations = [\n",
    "    ('A', 'a'), ('B', 'b'), ('C', 'c'), ('Ç', 'ç'), ('D', 'd'), ('E', 'e'),\n",
    "    ('F', 'f'), ('G', 'g'), ('Ğ', 'ğ'), ('H', 'h'), ('İ', 'i'),\n",
    "    ('I', 'ı'), ('J', 'j'), ('K', 'k'), ('L', 'l'), ('M', 'm'),\n",
    "    ('N', 'n'), ('O', 'o'), ('Ö', 'ö'), ('P', 'p'), ('R', 'r'),\n",
    "    ('S', 's'), ('Ş', 'ş'), ('T', 't'), ('U', 'u'), ('Ü', 'ü'),\n",
    "    ('V', 'v'), ('Y', 'y'), ('Z', 'z')\n",
    "]"
   ]
  },
  {
   "cell_type": "code",
   "execution_count": 3,
   "metadata": {},
   "outputs": [],
   "source": [
    "phonetic_relations = [('kalın_ünlü', 'ünlü'), ('ince_ünlü', 'ünlü'),\n",
    "                      ('düz_ünlü', 'ünlü'), ('yuvarlak_ünlü', 'ünlü'),\n",
    "                      ('dar_ünlü', 'ünlü'), ('geniş_ünlü', 'ünlü'),\n",
    "                      ('sert_ünsüz', 'ünsüz'), ('yumuşak_ünsüz', 'ünsüz'),\n",
    "                      ('sürekli_ünsüz', 'ünsüz'), ('süreksiz_ünsüz', 'ünsüz'),\n",
    "                      ('lips', 'voice'), ('teeth', 'voice'), ('palate', 'voice'),\n",
    "                      ('throat', 'voice'),\n",
    "                      ('a', 'kalın_ünlü'), ('ı', 'kalın_ünlü'), ('o', 'kalın_ünlü'), \n",
    "                      ('u', 'kalın_ünlü'),\n",
    "                      ('e', 'ince_ünlü'), ('i', 'ince_ünlü'),('ö', 'ince_ünlü'), \n",
    "                      ('ü', 'ince_ünlü'), \n",
    "                      ('a', 'düz_ünlü'), ('e', 'düz_ünlü'), ('ı', 'düz_ünlü'), \n",
    "                      ('i', 'düz_ünlü'),\n",
    "                      ('o', 'yuvarlak_ünlü'), ('ö', 'yuvarlak_ünlü'), ('u', 'yuvarlak_ünlü'), \n",
    "                      ('ü', 'yuvarlak_ünlü'),\n",
    "                      ('ı', 'dar_ünlü'), ('i', 'dar_ünlü'), ('u', 'dar_ünlü'), \n",
    "                      ('ü', 'dar_ünlü'),\n",
    "                      ('a', 'geniş_ünlü'), ('e', 'geniş_ünlü'), ('o', 'geniş_ünlü'), \n",
    "                      ('ö', 'geniş_ünlü'),\n",
    "                      ('f', 'sert_ünsüz'), ('h', 'sert_ünsüz'), ('s', 'sert_ünsüz'),\n",
    "                      ('ş', 'sert_ünsüz'), ('ç', 'sert_ünsüz'), ('k', 'sert_ünsüz'),\n",
    "                      ('p', 'sert_ünsüz'), ('t', 'sert_ünsüz'), ('s', 'sert_ünsüz'),\n",
    "                      ('b', 'yumuşak_ünsüz'), ('c', 'yumuşak_ünsüz'), ('d', 'yumuşak_ünsüz'),\n",
    "                      ('ğ', 'yumuşak_ünsüz'), ('j', 'yumuşak_ünsüz'), ('l', 'yumuşak_ünsüz'),\n",
    "                      ('m', 'yumuşak_ünsüz'), ('n', 'yumuşak_ünsüz'), ('r', 'yumuşak_ünsüz'),\n",
    "                      ('v', 'yumuşak_ünsüz'), ('y', 'yumuşak_ünsüz'), ('z', 'yumuşak_ünsüz'),\n",
    "                      ('g', 'yumuşak_ünsüz'),\n",
    "                      ('f', 'sürekli_ünsüz'), ('h', 'sürekli_ünsüz'), ('s', 'sürekli_ünsüz'),\n",
    "                      ('ş', 'sürekli_ünsüz'), ('ğ', 'sürekli_ünsüz'), ('j', 'sürekli_ünsüz'),\n",
    "                      ('l', 'sürekli_ünsüz'), ('m', 'sürekli_ünsüz'), ('n', 'sürekli_ünsüz'),\n",
    "                      ('r', 'sürekli_ünsüz'), ('v', 'sürekli_ünsüz'), ('y', 'sürekli_ünsüz'),\n",
    "                      ('z', 'sürekli_ünsüz'),\n",
    "                      ('ç', 'süreksiz_ünsüz'), ('k', 'süreksiz_ünsüz'), ('p', 'süreksiz_ünsüz'),\n",
    "                      ('t', 'süreksiz_ünsüz'), ('b', 'süreksiz_ünsüz'), ('c', 'süreksiz_ünsüz'),\n",
    "                      ('d', 'süreksiz_ünsüz'), ('g', 'süreksiz_ünsüz'),\n",
    "                      ('f', 'lips'), ('p', 'lips'), ('m', 'lips'), \n",
    "                      ('v', 'lips'), ('b', 'lips'),\n",
    "                      ('s', 'teeth'), ('ş', 'teeth'), ('ç', 'teeth'),\n",
    "                      ('t', 'teeth'), ('j', 'teeth'), ('l', 'teeth'),\n",
    "                      ('n', 'teeth'), ('r', 'teeth'), ('z', 'teeth'),\n",
    "                      ('c', 'teeth'), ('d', 'teeth'),\n",
    "                      ('k', 'palate'), ('ğ', 'palate'), ('y', 'palate'),\n",
    "                      ('g', 'palate'),\n",
    "                      ('h', 'throat')\n",
    "                     ]"
   ]
  },
  {
   "cell_type": "code",
   "execution_count": 4,
   "metadata": {},
   "outputs": [],
   "source": [
    "numeric_relations = [('0', 'digit'), ('1', 'digit'), ('2', 'digit'), \n",
    "                     ('3', 'digit'), ('4', 'digit'), ('5', 'digit'),\n",
    "                     ('6', 'digit'), ('7', 'digit'), ('8', 'digit'), \n",
    "                     ('9', 'digit')]"
   ]
  },
  {
   "cell_type": "code",
   "execution_count": null,
   "metadata": {},
   "outputs": [],
   "source": [
    "punctuations = [\n",
    "    ('.', 'punc'), (',', 'punc'), (':', 'punc'), (';', 'punc'),\n",
    "    (';', 'punc'), ('...', 'punc'), ('?', 'punc'), ('!', 'punc'),\n",
    "    ('\"', 'punc'), ('\\'', 'punc'), ('(', 'punc'), (')', 'punc'),\n",
    "    ('-', 'punc'), ('/', 'punc'), ('\\\\', 'punc'), ('[', 'punc'),\n",
    "    (']', 'punc'),\n",
    "]"
   ]
  },
  {
   "cell_type": "code",
   "execution_count": null,
   "metadata": {},
   "outputs": [],
   "source": [
    "relations = case_relations + is_a_relations + phonetic_relations + numeric_relations + punctuations"
   ]
  },
  {
   "cell_type": "code",
   "execution_count": null,
   "metadata": {},
   "outputs": [],
   "source": [
    "def visualize_embeddings(model, feature_size):\n",
    "    words = []\n",
    "    embedding = np.array([])\n",
    "    i = 0\n",
    "    for word in model.kv.vocab:\n",
    "        words.append(word)\n",
    "        embedding = np.append(embedding, model.kv[word])\n",
    "        i += 1\n",
    "\n",
    "    embedding = embedding.reshape(len(model.kv.vocab), feature_size)\n",
    "    tsne = TSNE(perplexity=30.0, n_components=2, init='pca', n_iter=5000)\n",
    "    low_dim_embedding = tsne.fit_transform(embedding)\n",
    "\n",
    "    plt.figure(figsize=(20, 20))\n",
    "    for i, label in enumerate(words):\n",
    "        x, y = low_dim_embedding[i, :]\n",
    "        plt.scatter(x, y)\n",
    "        plt.annotate(label,\n",
    "                     xy=(x, y),\n",
    "                     xytext=(5, 2),\n",
    "                     textcoords='offset points',\n",
    "                     ha='right',\n",
    "                     va='bottom')\n",
    "    plt.show()"
   ]
  },
  {
   "cell_type": "code",
   "execution_count": null,
   "metadata": {},
   "outputs": [],
   "source": [
    "feature_size = 16\n",
    "char_model = PoincareModel(relations, size=feature_size, negative=20)\n",
    "char_model.train(epochs=100)"
   ]
  },
  {
   "cell_type": "code",
   "execution_count": null,
   "metadata": {},
   "outputs": [],
   "source": [
    "visualize_embeddings(char_model, feature_size)"
   ]
  },
  {
   "cell_type": "code",
   "execution_count": null,
   "metadata": {},
   "outputs": [],
   "source": [
    "char_model.kv.most_similar(\"a\")"
   ]
  },
  {
   "cell_type": "code",
   "execution_count": null,
   "metadata": {},
   "outputs": [],
   "source": [
    "char_model.kv.save_word2vec_format(\"models\\\\tr_char_\"+str(feature_size)+\".model\")"
   ]
  },
  {
   "cell_type": "code",
   "execution_count": null,
   "metadata": {},
   "outputs": [],
   "source": [
    "assert char_model.kv.similarity('a', 'e') > char_model.kv.similarity('a', 'b')\n",
    "assert char_model.kv.similarity('a', 'A') > char_model.kv.similarity('a', 'i')\n",
    "assert char_model.kv.similarity('a', 'lower') > char_model.kv.similarity('a', 'upper')\n",
    "\n",
    "assert char_model.kv.similarity('ç', 't') > char_model.kv.similarity('ç', 'i')\n",
    "assert char_model.kv.similarity('ç', 'Ç') > char_model.kv.similarity('ç', 'd')\n",
    "assert char_model.kv.similarity('ç', 'lower') > char_model.kv.similarity('ç', 'upper')"
   ]
  }
 ],
 "metadata": {
  "kernelspec": {
   "display_name": "Python 3",
   "language": "python",
   "name": "python3"
  },
  "language_info": {
   "codemirror_mode": {
    "name": "ipython",
    "version": 3
   },
   "file_extension": ".py",
   "mimetype": "text/x-python",
   "name": "python",
   "nbconvert_exporter": "python",
   "pygments_lexer": "ipython3",
   "version": "3.7.1"
  }
 },
 "nbformat": 4,
 "nbformat_minor": 2
}
